{
  "nbformat": 4,
  "nbformat_minor": 0,
  "metadata": {
    "colab": {
      "provenance": [],
      "authorship_tag": "ABX9TyORxz3soSHwzcHs0xjl8hzI",
      "include_colab_link": true
    },
    "kernelspec": {
      "name": "python3",
      "display_name": "Python 3"
    },
    "language_info": {
      "name": "python"
    }
  },
  "cells": [
    {
      "cell_type": "markdown",
      "metadata": {
        "id": "view-in-github",
        "colab_type": "text"
      },
      "source": [
        "<a href=\"https://colab.research.google.com/github/navyasonal/Basics/blob/main/Basics.ipynb\" target=\"_parent\"><img src=\"https://colab.research.google.com/assets/colab-badge.svg\" alt=\"Open In Colab\"/></a>"
      ]
    },
    {
      "cell_type": "markdown",
      "source": [
        "System specifications"
      ],
      "metadata": {
        "id": "tqr-UiZt7fC_"
      }
    },
    {
      "cell_type": "code",
      "source": [
        "!cat /proc/cpuinfo\n"
      ],
      "metadata": {
        "colab": {
          "base_uri": "https://localhost:8080/"
        },
        "id": "2CQs8E0Q7iXQ",
        "outputId": "2dc2b3ff-5559-47c2-9046-275e15ef014d"
      },
      "execution_count": 1,
      "outputs": [
        {
          "output_type": "stream",
          "name": "stdout",
          "text": [
            "processor\t: 0\n",
            "vendor_id\t: GenuineIntel\n",
            "cpu family\t: 6\n",
            "model\t\t: 79\n",
            "model name\t: Intel(R) Xeon(R) CPU @ 2.20GHz\n",
            "stepping\t: 0\n",
            "microcode\t: 0xffffffff\n",
            "cpu MHz\t\t: 2199.998\n",
            "cache size\t: 56320 KB\n",
            "physical id\t: 0\n",
            "siblings\t: 2\n",
            "core id\t\t: 0\n",
            "cpu cores\t: 1\n",
            "apicid\t\t: 0\n",
            "initial apicid\t: 0\n",
            "fpu\t\t: yes\n",
            "fpu_exception\t: yes\n",
            "cpuid level\t: 13\n",
            "wp\t\t: yes\n",
            "flags\t\t: fpu vme de pse tsc msr pae mce cx8 apic sep mtrr pge mca cmov pat pse36 clflush mmx fxsr sse sse2 ss ht syscall nx pdpe1gb rdtscp lm constant_tsc rep_good nopl xtopology nonstop_tsc cpuid tsc_known_freq pni pclmulqdq ssse3 fma cx16 pcid sse4_1 sse4_2 x2apic movbe popcnt aes xsave avx f16c rdrand hypervisor lahf_lm abm 3dnowprefetch invpcid_single ssbd ibrs ibpb stibp fsgsbase tsc_adjust bmi1 hle avx2 smep bmi2 erms invpcid rtm rdseed adx smap xsaveopt arat md_clear arch_capabilities\n",
            "bugs\t\t: cpu_meltdown spectre_v1 spectre_v2 spec_store_bypass l1tf mds swapgs taa mmio_stale_data retbleed\n",
            "bogomips\t: 4399.99\n",
            "clflush size\t: 64\n",
            "cache_alignment\t: 64\n",
            "address sizes\t: 46 bits physical, 48 bits virtual\n",
            "power management:\n",
            "\n",
            "processor\t: 1\n",
            "vendor_id\t: GenuineIntel\n",
            "cpu family\t: 6\n",
            "model\t\t: 79\n",
            "model name\t: Intel(R) Xeon(R) CPU @ 2.20GHz\n",
            "stepping\t: 0\n",
            "microcode\t: 0xffffffff\n",
            "cpu MHz\t\t: 2199.998\n",
            "cache size\t: 56320 KB\n",
            "physical id\t: 0\n",
            "siblings\t: 2\n",
            "core id\t\t: 0\n",
            "cpu cores\t: 1\n",
            "apicid\t\t: 1\n",
            "initial apicid\t: 1\n",
            "fpu\t\t: yes\n",
            "fpu_exception\t: yes\n",
            "cpuid level\t: 13\n",
            "wp\t\t: yes\n",
            "flags\t\t: fpu vme de pse tsc msr pae mce cx8 apic sep mtrr pge mca cmov pat pse36 clflush mmx fxsr sse sse2 ss ht syscall nx pdpe1gb rdtscp lm constant_tsc rep_good nopl xtopology nonstop_tsc cpuid tsc_known_freq pni pclmulqdq ssse3 fma cx16 pcid sse4_1 sse4_2 x2apic movbe popcnt aes xsave avx f16c rdrand hypervisor lahf_lm abm 3dnowprefetch invpcid_single ssbd ibrs ibpb stibp fsgsbase tsc_adjust bmi1 hle avx2 smep bmi2 erms invpcid rtm rdseed adx smap xsaveopt arat md_clear arch_capabilities\n",
            "bugs\t\t: cpu_meltdown spectre_v1 spectre_v2 spec_store_bypass l1tf mds swapgs taa mmio_stale_data retbleed\n",
            "bogomips\t: 4399.99\n",
            "clflush size\t: 64\n",
            "cache_alignment\t: 64\n",
            "address sizes\t: 46 bits physical, 48 bits virtual\n",
            "power management:\n",
            "\n"
          ]
        }
      ]
    },
    {
      "cell_type": "code",
      "source": [
        "!cat /proc/meminfo"
      ],
      "metadata": {
        "colab": {
          "base_uri": "https://localhost:8080/"
        },
        "id": "m5w_eVMl8BQg",
        "outputId": "8ba16ed6-6646-4c2c-f0dc-9139c6c42e2c"
      },
      "execution_count": 2,
      "outputs": [
        {
          "output_type": "stream",
          "name": "stdout",
          "text": [
            "MemTotal:       13297192 kB\n",
            "MemFree:         9914552 kB\n",
            "MemAvailable:   12467520 kB\n",
            "Buffers:           59524 kB\n",
            "Cached:          2634408 kB\n",
            "SwapCached:            0 kB\n",
            "Active:           813060 kB\n",
            "Inactive:        2363228 kB\n",
            "Active(anon):        892 kB\n",
            "Inactive(anon):   433076 kB\n",
            "Active(file):     812168 kB\n",
            "Inactive(file):  1930152 kB\n",
            "Unevictable:           0 kB\n",
            "Mlocked:               0 kB\n",
            "SwapTotal:             0 kB\n",
            "SwapFree:              0 kB\n",
            "Dirty:               868 kB\n",
            "Writeback:             0 kB\n",
            "AnonPages:        482384 kB\n",
            "Mapped:           231628 kB\n",
            "Shmem:              1180 kB\n",
            "KReclaimable:     104456 kB\n",
            "Slab:             133224 kB\n",
            "SReclaimable:     104456 kB\n",
            "SUnreclaim:        28768 kB\n",
            "KernelStack:        4176 kB\n",
            "PageTables:         9296 kB\n",
            "NFS_Unstable:          0 kB\n",
            "Bounce:                0 kB\n",
            "WritebackTmp:          0 kB\n",
            "CommitLimit:     6648596 kB\n",
            "Committed_AS:    2517232 kB\n",
            "VmallocTotal:   34359738367 kB\n",
            "VmallocUsed:        9044 kB\n",
            "VmallocChunk:          0 kB\n",
            "Percpu:             1320 kB\n",
            "HardwareCorrupted:     0 kB\n",
            "AnonHugePages:         0 kB\n",
            "ShmemHugePages:        0 kB\n",
            "ShmemPmdMapped:        0 kB\n",
            "FileHugePages:         0 kB\n",
            "FilePmdMapped:         0 kB\n",
            "CmaTotal:              0 kB\n",
            "CmaFree:               0 kB\n",
            "HugePages_Total:       0\n",
            "HugePages_Free:        0\n",
            "HugePages_Rsvd:        0\n",
            "HugePages_Surp:        0\n",
            "Hugepagesize:       2048 kB\n",
            "Hugetlb:               0 kB\n",
            "DirectMap4k:       88896 kB\n",
            "DirectMap2M:     3053568 kB\n",
            "DirectMap1G:    12582912 kB\n"
          ]
        }
      ]
    },
    {
      "cell_type": "markdown",
      "source": [
        "Installing Libraries\n"
      ],
      "metadata": {
        "id": "4oI1Vc0r-6oX"
      }
    },
    {
      "cell_type": "code",
      "source": [
        "!pip install pandas\n"
      ],
      "metadata": {
        "colab": {
          "base_uri": "https://localhost:8080/"
        },
        "id": "Q2S0fD_v_NGF",
        "outputId": "998d9bf4-8925-44ad-cbdc-a97960249256"
      },
      "execution_count": 3,
      "outputs": [
        {
          "output_type": "stream",
          "name": "stdout",
          "text": [
            "Looking in indexes: https://pypi.org/simple, https://us-python.pkg.dev/colab-wheels/public/simple/\n",
            "Requirement already satisfied: pandas in /usr/local/lib/python3.8/dist-packages (1.3.5)\n",
            "Requirement already satisfied: numpy>=1.17.3 in /usr/local/lib/python3.8/dist-packages (from pandas) (1.21.6)\n",
            "Requirement already satisfied: pytz>=2017.3 in /usr/local/lib/python3.8/dist-packages (from pandas) (2022.7)\n",
            "Requirement already satisfied: python-dateutil>=2.7.3 in /usr/local/lib/python3.8/dist-packages (from pandas) (2.8.2)\n",
            "Requirement already satisfied: six>=1.5 in /usr/local/lib/python3.8/dist-packages (from python-dateutil>=2.7.3->pandas) (1.15.0)\n"
          ]
        }
      ]
    },
    {
      "cell_type": "code",
      "source": [
        "import pandas as pd"
      ],
      "metadata": {
        "id": "WW7TZSG4-_sK"
      },
      "execution_count": 4,
      "outputs": []
    },
    {
      "cell_type": "code",
      "source": [
        "df=pd.read_csv('/content/housing.csv')"
      ],
      "metadata": {
        "id": "I2RPbF91_gL7"
      },
      "execution_count": 5,
      "outputs": []
    },
    {
      "cell_type": "code",
      "source": [
        "df.head()"
      ],
      "metadata": {
        "colab": {
          "base_uri": "https://localhost:8080/",
          "height": 206
        },
        "id": "AaQ_BYkxA1qy",
        "outputId": "d0692af3-a89b-4967-926f-86e8aeab94c3"
      },
      "execution_count": 6,
      "outputs": [
        {
          "output_type": "execute_result",
          "data": {
            "text/plain": [
              "   0.00632  18.00   2.310  0  0.5380  6.5750  65.20  4.0900   1  296.0  15.30 396.90   4.98  24.00\n",
              "0   0.02731   0.00   7.070  0  0.4690  6.4210  78...                                              \n",
              "1   0.02729   0.00   7.070  0  0.4690  7.1850  61...                                              \n",
              "2   0.03237   0.00   2.180  0  0.4580  6.9980  45...                                              \n",
              "3   0.06905   0.00   2.180  0  0.4580  7.1470  54...                                              \n",
              "4   0.02985   0.00   2.180  0  0.4580  6.4300  58...                                              "
            ],
            "text/html": [
              "\n",
              "  <div id=\"df-0d810928-3a27-4d0d-83e8-440a63ef43e9\">\n",
              "    <div class=\"colab-df-container\">\n",
              "      <div>\n",
              "<style scoped>\n",
              "    .dataframe tbody tr th:only-of-type {\n",
              "        vertical-align: middle;\n",
              "    }\n",
              "\n",
              "    .dataframe tbody tr th {\n",
              "        vertical-align: top;\n",
              "    }\n",
              "\n",
              "    .dataframe thead th {\n",
              "        text-align: right;\n",
              "    }\n",
              "</style>\n",
              "<table border=\"1\" class=\"dataframe\">\n",
              "  <thead>\n",
              "    <tr style=\"text-align: right;\">\n",
              "      <th></th>\n",
              "      <th>0.00632  18.00   2.310  0  0.5380  6.5750  65.20  4.0900   1  296.0  15.30 396.90   4.98  24.00</th>\n",
              "    </tr>\n",
              "  </thead>\n",
              "  <tbody>\n",
              "    <tr>\n",
              "      <th>0</th>\n",
              "      <td>0.02731   0.00   7.070  0  0.4690  6.4210  78...</td>\n",
              "    </tr>\n",
              "    <tr>\n",
              "      <th>1</th>\n",
              "      <td>0.02729   0.00   7.070  0  0.4690  7.1850  61...</td>\n",
              "    </tr>\n",
              "    <tr>\n",
              "      <th>2</th>\n",
              "      <td>0.03237   0.00   2.180  0  0.4580  6.9980  45...</td>\n",
              "    </tr>\n",
              "    <tr>\n",
              "      <th>3</th>\n",
              "      <td>0.06905   0.00   2.180  0  0.4580  7.1470  54...</td>\n",
              "    </tr>\n",
              "    <tr>\n",
              "      <th>4</th>\n",
              "      <td>0.02985   0.00   2.180  0  0.4580  6.4300  58...</td>\n",
              "    </tr>\n",
              "  </tbody>\n",
              "</table>\n",
              "</div>\n",
              "      <button class=\"colab-df-convert\" onclick=\"convertToInteractive('df-0d810928-3a27-4d0d-83e8-440a63ef43e9')\"\n",
              "              title=\"Convert this dataframe to an interactive table.\"\n",
              "              style=\"display:none;\">\n",
              "        \n",
              "  <svg xmlns=\"http://www.w3.org/2000/svg\" height=\"24px\"viewBox=\"0 0 24 24\"\n",
              "       width=\"24px\">\n",
              "    <path d=\"M0 0h24v24H0V0z\" fill=\"none\"/>\n",
              "    <path d=\"M18.56 5.44l.94 2.06.94-2.06 2.06-.94-2.06-.94-.94-2.06-.94 2.06-2.06.94zm-11 1L8.5 8.5l.94-2.06 2.06-.94-2.06-.94L8.5 2.5l-.94 2.06-2.06.94zm10 10l.94 2.06.94-2.06 2.06-.94-2.06-.94-.94-2.06-.94 2.06-2.06.94z\"/><path d=\"M17.41 7.96l-1.37-1.37c-.4-.4-.92-.59-1.43-.59-.52 0-1.04.2-1.43.59L10.3 9.45l-7.72 7.72c-.78.78-.78 2.05 0 2.83L4 21.41c.39.39.9.59 1.41.59.51 0 1.02-.2 1.41-.59l7.78-7.78 2.81-2.81c.8-.78.8-2.07 0-2.86zM5.41 20L4 18.59l7.72-7.72 1.47 1.35L5.41 20z\"/>\n",
              "  </svg>\n",
              "      </button>\n",
              "      \n",
              "  <style>\n",
              "    .colab-df-container {\n",
              "      display:flex;\n",
              "      flex-wrap:wrap;\n",
              "      gap: 12px;\n",
              "    }\n",
              "\n",
              "    .colab-df-convert {\n",
              "      background-color: #E8F0FE;\n",
              "      border: none;\n",
              "      border-radius: 50%;\n",
              "      cursor: pointer;\n",
              "      display: none;\n",
              "      fill: #1967D2;\n",
              "      height: 32px;\n",
              "      padding: 0 0 0 0;\n",
              "      width: 32px;\n",
              "    }\n",
              "\n",
              "    .colab-df-convert:hover {\n",
              "      background-color: #E2EBFA;\n",
              "      box-shadow: 0px 1px 2px rgba(60, 64, 67, 0.3), 0px 1px 3px 1px rgba(60, 64, 67, 0.15);\n",
              "      fill: #174EA6;\n",
              "    }\n",
              "\n",
              "    [theme=dark] .colab-df-convert {\n",
              "      background-color: #3B4455;\n",
              "      fill: #D2E3FC;\n",
              "    }\n",
              "\n",
              "    [theme=dark] .colab-df-convert:hover {\n",
              "      background-color: #434B5C;\n",
              "      box-shadow: 0px 1px 3px 1px rgba(0, 0, 0, 0.15);\n",
              "      filter: drop-shadow(0px 1px 2px rgba(0, 0, 0, 0.3));\n",
              "      fill: #FFFFFF;\n",
              "    }\n",
              "  </style>\n",
              "\n",
              "      <script>\n",
              "        const buttonEl =\n",
              "          document.querySelector('#df-0d810928-3a27-4d0d-83e8-440a63ef43e9 button.colab-df-convert');\n",
              "        buttonEl.style.display =\n",
              "          google.colab.kernel.accessAllowed ? 'block' : 'none';\n",
              "\n",
              "        async function convertToInteractive(key) {\n",
              "          const element = document.querySelector('#df-0d810928-3a27-4d0d-83e8-440a63ef43e9');\n",
              "          const dataTable =\n",
              "            await google.colab.kernel.invokeFunction('convertToInteractive',\n",
              "                                                     [key], {});\n",
              "          if (!dataTable) return;\n",
              "\n",
              "          const docLinkHtml = 'Like what you see? Visit the ' +\n",
              "            '<a target=\"_blank\" href=https://colab.research.google.com/notebooks/data_table.ipynb>data table notebook</a>'\n",
              "            + ' to learn more about interactive tables.';\n",
              "          element.innerHTML = '';\n",
              "          dataTable['output_type'] = 'display_data';\n",
              "          await google.colab.output.renderOutput(dataTable, element);\n",
              "          const docLink = document.createElement('div');\n",
              "          docLink.innerHTML = docLinkHtml;\n",
              "          element.appendChild(docLink);\n",
              "        }\n",
              "      </script>\n",
              "    </div>\n",
              "  </div>\n",
              "  "
            ]
          },
          "metadata": {},
          "execution_count": 6
        }
      ]
    },
    {
      "cell_type": "code",
      "source": [
        "!ls"
      ],
      "metadata": {
        "colab": {
          "base_uri": "https://localhost:8080/"
        },
        "id": "-nVjjIS4BTuR",
        "outputId": "41367666-a129-4a44-e84a-db5454cc58d0"
      },
      "execution_count": 7,
      "outputs": [
        {
          "output_type": "stream",
          "name": "stdout",
          "text": [
            "housing.csv  sample_data\n"
          ]
        }
      ]
    },
    {
      "cell_type": "markdown",
      "source": [
        "Programming languages used for ML are\n",
        "Python and\n",
        "R"
      ],
      "metadata": {
        "id": "qq5Vpn46-5dc"
      }
    },
    {
      "cell_type": "markdown",
      "source": [
        "#Print Function"
      ],
      "metadata": {
        "id": "EyNQDTDDCVls"
      }
    },
    {
      "cell_type": "code",
      "source": [
        "print (\"Hello world\")"
      ],
      "metadata": {
        "colab": {
          "base_uri": "https://localhost:8080/"
        },
        "id": "HqKpv6CnBXUv",
        "outputId": "8d273924-06d3-40ff-c77b-f4c3676693fe"
      },
      "execution_count": 9,
      "outputs": [
        {
          "output_type": "stream",
          "name": "stdout",
          "text": [
            "Hello world\n"
          ]
        }
      ]
    },
    {
      "cell_type": "code",
      "source": [
        "print(\"Machine learning \"+\"Projects\")"
      ],
      "metadata": {
        "colab": {
          "base_uri": "https://localhost:8080/"
        },
        "id": "NAevalE9CVFm",
        "outputId": "e727c507-5bd0-46ae-c844-8abba03c93e1"
      },
      "execution_count": 10,
      "outputs": [
        {
          "output_type": "stream",
          "name": "stdout",
          "text": [
            "Machine learning Projects\n"
          ]
        }
      ]
    },
    {
      "cell_type": "code",
      "source": [
        "print(8)"
      ],
      "metadata": {
        "colab": {
          "base_uri": "https://localhost:8080/"
        },
        "id": "ikkGRLuMCO4r",
        "outputId": "b221811d-6402-4ce3-dfaf-1053639589f1"
      },
      "execution_count": 11,
      "outputs": [
        {
          "output_type": "stream",
          "name": "stdout",
          "text": [
            "8\n"
          ]
        }
      ]
    },
    {
      "cell_type": "code",
      "source": [
        "print(8+3)"
      ],
      "metadata": {
        "colab": {
          "base_uri": "https://localhost:8080/"
        },
        "id": "0TpjkRDCDBDU",
        "outputId": "df22c491-6467-4858-80a0-f9cb8c104295"
      },
      "execution_count": 12,
      "outputs": [
        {
          "output_type": "stream",
          "name": "stdout",
          "text": [
            "11\n"
          ]
        }
      ]
    },
    {
      "cell_type": "markdown",
      "source": [
        "#Basic Data Types:\n",
        "\n",
        "1. Int\n",
        "2. Float\n",
        "3. Strings"
      ],
      "metadata": {
        "id": "xw4u8PPeDV9r"
      }
    },
    {
      "cell_type": "code",
      "source": [
        "type(8)"
      ],
      "metadata": {
        "colab": {
          "base_uri": "https://localhost:8080/"
        },
        "id": "hE8pgL1SDiey",
        "outputId": "4aa99f43-7a00-4046-d384-516e7af38bda"
      },
      "execution_count": 13,
      "outputs": [
        {
          "output_type": "execute_result",
          "data": {
            "text/plain": [
              "int"
            ]
          },
          "metadata": {},
          "execution_count": 13
        }
      ]
    },
    {
      "cell_type": "code",
      "source": [
        "type(7.77)"
      ],
      "metadata": {
        "colab": {
          "base_uri": "https://localhost:8080/"
        },
        "id": "_Jy0Fz_6DoHa",
        "outputId": "34f474be-7686-4390-d1d5-44b181bf5bdc"
      },
      "execution_count": 14,
      "outputs": [
        {
          "output_type": "execute_result",
          "data": {
            "text/plain": [
              "float"
            ]
          },
          "metadata": {},
          "execution_count": 14
        }
      ]
    },
    {
      "cell_type": "code",
      "source": [
        "type('a')"
      ],
      "metadata": {
        "colab": {
          "base_uri": "https://localhost:8080/"
        },
        "id": "i4uyZLV5Dp-K",
        "outputId": "807ed09a-97cc-4672-94ce-f36eb3b2c991"
      },
      "execution_count": 16,
      "outputs": [
        {
          "output_type": "execute_result",
          "data": {
            "text/plain": [
              "str"
            ]
          },
          "metadata": {},
          "execution_count": 16
        }
      ]
    },
    {
      "cell_type": "markdown",
      "source": [
        "#Constants and variables \n",
        "python is case sensitive"
      ],
      "metadata": {
        "id": "zIzfh6OFD2-G"
      }
    },
    {
      "cell_type": "code",
      "source": [
        "superhero ='Iron man'\n",
        "print(superhero)"
      ],
      "metadata": {
        "colab": {
          "base_uri": "https://localhost:8080/"
        },
        "id": "nm1d_uG3EFDC",
        "outputId": "fae79347-121d-4676-b276-2966b767fed8"
      },
      "execution_count": 17,
      "outputs": [
        {
          "output_type": "stream",
          "name": "stdout",
          "text": [
            "Iron man\n"
          ]
        }
      ]
    },
    {
      "cell_type": "code",
      "source": [
        "a,b,c=1,2,3\n",
        "print(a)\n",
        "print(b)\n",
        "print(c)"
      ],
      "metadata": {
        "colab": {
          "base_uri": "https://localhost:8080/"
        },
        "id": "tVscrOgWEe4w",
        "outputId": "e0130f3d-59be-4b43-c7a1-0e580efffe2f"
      },
      "execution_count": 19,
      "outputs": [
        {
          "output_type": "stream",
          "name": "stdout",
          "text": [
            "1\n",
            "2\n",
            "3\n"
          ]
        }
      ]
    },
    {
      "cell_type": "code",
      "source": [],
      "metadata": {
        "id": "4gjJhC9WQ66D"
      },
      "execution_count": null,
      "outputs": []
    },
    {
      "cell_type": "markdown",
      "source": [
        "#input Function\n",
        "it assumes that the value entered is a string"
      ],
      "metadata": {
        "id": "xo6-7DV4RViV"
      }
    },
    {
      "cell_type": "code",
      "source": [
        "num=input(\"Enter a number\")\n",
        "num2=input(\"Enter the number \")"
      ],
      "metadata": {
        "colab": {
          "base_uri": "https://localhost:8080/"
        },
        "id": "dc875mG5RX68",
        "outputId": "c5357081-fa1f-46b3-dc44-f198c8774ee2"
      },
      "execution_count": 20,
      "outputs": [
        {
          "name": "stdout",
          "output_type": "stream",
          "text": [
            "Enter a number23\n",
            "Enter the number 45\n"
          ]
        }
      ]
    },
    {
      "cell_type": "code",
      "source": [
        "print(num+num2)"
      ],
      "metadata": {
        "colab": {
          "base_uri": "https://localhost:8080/"
        },
        "id": "qTP0ALvERo8p",
        "outputId": "3df20c83-7e59-4043-b7b9-39c96f0e8c16"
      },
      "execution_count": 21,
      "outputs": [
        {
          "output_type": "stream",
          "name": "stdout",
          "text": [
            "2345\n"
          ]
        }
      ]
    },
    {
      "cell_type": "code",
      "source": [
        "num=int(input(\"Enter a number\"))\n",
        "num2=int(input(\"Enter the number \"))"
      ],
      "metadata": {
        "colab": {
          "base_uri": "https://localhost:8080/"
        },
        "id": "Hran7tTPRvKz",
        "outputId": "9356b4d3-e29a-4a89-fd2c-5b588d9a36b7"
      },
      "execution_count": 22,
      "outputs": [
        {
          "name": "stdout",
          "output_type": "stream",
          "text": [
            "Enter a number2\n",
            "Enter the number 3\n"
          ]
        }
      ]
    },
    {
      "cell_type": "code",
      "source": [
        "print(num+num2)"
      ],
      "metadata": {
        "colab": {
          "base_uri": "https://localhost:8080/"
        },
        "id": "W10ffgSoSOHE",
        "outputId": "ed9b3303-77ea-406a-fbbf-629b5515c301"
      },
      "execution_count": 23,
      "outputs": [
        {
          "output_type": "stream",
          "name": "stdout",
          "text": [
            "5\n"
          ]
        }
      ]
    },
    {
      "cell_type": "code",
      "source": [
        "#changing the data type\n",
        "a=7\n",
        "print(float(a))"
      ],
      "metadata": {
        "colab": {
          "base_uri": "https://localhost:8080/"
        },
        "id": "PfZl2IZ9STKt",
        "outputId": "7a83e3bb-a039-47b4-955e-d93240127ab7"
      },
      "execution_count": 26,
      "outputs": [
        {
          "output_type": "stream",
          "name": "stdout",
          "text": [
            "7.0\n"
          ]
        }
      ]
    },
    {
      "cell_type": "code",
      "source": [],
      "metadata": {
        "id": "UFMXUYKRSjku"
      },
      "execution_count": null,
      "outputs": []
    },
    {
      "cell_type": "markdown",
      "source": [
        "#Basic data type\n",
        "\n",
        "1. Integer\n",
        "2. Float\n",
        "3. Complex\n",
        "4. boolean\n",
        "5. string"
      ],
      "metadata": {
        "id": "REO73jqBTB18"
      }
    },
    {
      "cell_type": "code",
      "source": [
        "c=1+3j\n",
        "print(c)\n",
        "type(c)"
      ],
      "metadata": {
        "colab": {
          "base_uri": "https://localhost:8080/"
        },
        "id": "2FGnCLc6TElc",
        "outputId": "741a7f77-b5de-4c2c-c7bd-8e02a39ea94d"
      },
      "execution_count": 27,
      "outputs": [
        {
          "output_type": "stream",
          "name": "stdout",
          "text": [
            "(1+3j)\n"
          ]
        },
        {
          "output_type": "execute_result",
          "data": {
            "text/plain": [
              "complex"
            ]
          },
          "metadata": {},
          "execution_count": 27
        }
      ]
    },
    {
      "cell_type": "code",
      "source": [
        "a=7<3\n",
        "print(a)\n",
        "type(a)"
      ],
      "metadata": {
        "colab": {
          "base_uri": "https://localhost:8080/"
        },
        "id": "0WvZxydXcKpi",
        "outputId": "154c8dcb-4db7-4266-ad95-1a0e85543a18"
      },
      "execution_count": 34,
      "outputs": [
        {
          "output_type": "stream",
          "name": "stdout",
          "text": [
            "False\n"
          ]
        },
        {
          "output_type": "execute_result",
          "data": {
            "text/plain": [
              "bool"
            ]
          },
          "metadata": {},
          "execution_count": 34
        }
      ]
    },
    {
      "cell_type": "code",
      "source": [
        "mystring=\"Machine Learning\"\n",
        "print(mystring)\n",
        "type(mystring)"
      ],
      "metadata": {
        "colab": {
          "base_uri": "https://localhost:8080/"
        },
        "id": "BIGAeFJ8e4IE",
        "outputId": "4251faf3-19d7-4b52-fd81-61e651173f1a"
      },
      "execution_count": 36,
      "outputs": [
        {
          "output_type": "stream",
          "name": "stdout",
          "text": [
            "Machine Learning\n"
          ]
        },
        {
          "output_type": "execute_result",
          "data": {
            "text/plain": [
              "str"
            ]
          },
          "metadata": {},
          "execution_count": 36
        }
      ]
    },
    {
      "cell_type": "code",
      "source": [
        "print(\"Hello \"*5)"
      ],
      "metadata": {
        "colab": {
          "base_uri": "https://localhost:8080/"
        },
        "id": "xkOIldlHfg5Y",
        "outputId": "ad71d0d4-ab2a-4290-aa8a-bcbf581e2318"
      },
      "execution_count": 37,
      "outputs": [
        {
          "output_type": "stream",
          "name": "stdout",
          "text": [
            "Hello Hello Hello Hello Hello \n"
          ]
        }
      ]
    },
    {
      "cell_type": "markdown",
      "source": [
        "Conversion of Data type"
      ],
      "metadata": {
        "id": "QlIJ1pi5UdUT"
      }
    },
    {
      "cell_type": "code",
      "source": [
        "a=7\n",
        "type(a)"
      ],
      "metadata": {
        "colab": {
          "base_uri": "https://localhost:8080/"
        },
        "id": "7BHLHu_RUf7I",
        "outputId": "47803463-6c25-4bc2-a63f-494ed3cb23fe"
      },
      "execution_count": 28,
      "outputs": [
        {
          "output_type": "execute_result",
          "data": {
            "text/plain": [
              "int"
            ]
          },
          "metadata": {},
          "execution_count": 28
        }
      ]
    },
    {
      "cell_type": "code",
      "source": [
        "b=float(a)\n",
        "type(b)"
      ],
      "metadata": {
        "colab": {
          "base_uri": "https://localhost:8080/"
        },
        "id": "IcwWcEgZazdH",
        "outputId": "9c411c35-2aea-4e39-f178-a60f3c21bb8a"
      },
      "execution_count": 29,
      "outputs": [
        {
          "output_type": "execute_result",
          "data": {
            "text/plain": [
              "float"
            ]
          },
          "metadata": {},
          "execution_count": 29
        }
      ]
    },
    {
      "cell_type": "code",
      "source": [
        "c=2.33\n",
        "type(c)"
      ],
      "metadata": {
        "colab": {
          "base_uri": "https://localhost:8080/"
        },
        "id": "0FATG2cUa3ud",
        "outputId": "1c831617-2359-4b8b-9484-94026d3f44ab"
      },
      "execution_count": 30,
      "outputs": [
        {
          "output_type": "execute_result",
          "data": {
            "text/plain": [
              "float"
            ]
          },
          "metadata": {},
          "execution_count": 30
        }
      ]
    },
    {
      "cell_type": "code",
      "source": [
        "d=int(c)\n",
        "print(d)\n",
        "type(d)"
      ],
      "metadata": {
        "colab": {
          "base_uri": "https://localhost:8080/"
        },
        "id": "rmvFTGI0bADG",
        "outputId": "c8ad7f7b-ca0e-46c1-a69a-b171bdd643bb"
      },
      "execution_count": 31,
      "outputs": [
        {
          "output_type": "stream",
          "name": "stdout",
          "text": [
            "2\n"
          ]
        },
        {
          "output_type": "execute_result",
          "data": {
            "text/plain": [
              "int"
            ]
          },
          "metadata": {},
          "execution_count": 31
        }
      ]
    },
    {
      "cell_type": "code",
      "source": [],
      "metadata": {
        "id": "uzJ0odGvbJkF"
      },
      "execution_count": null,
      "outputs": []
    },
    {
      "cell_type": "markdown",
      "source": [
        "Slicing"
      ],
      "metadata": {
        "id": "PxntcrSUf68x"
      }
    },
    {
      "cell_type": "code",
      "source": [
        "word=\"Progamming\"\n",
        "print(word[1:4])\n",
        "print(word[1:10:2])"
      ],
      "metadata": {
        "colab": {
          "base_uri": "https://localhost:8080/"
        },
        "id": "TfcxucUmf8xP",
        "outputId": "ff99c0bb-00a7-44fe-8cbb-2c6ca352082f"
      },
      "execution_count": 39,
      "outputs": [
        {
          "output_type": "stream",
          "name": "stdout",
          "text": [
            "rog\n",
            "rgmig\n"
          ]
        }
      ]
    },
    {
      "cell_type": "markdown",
      "source": [
        "String concatanation"
      ],
      "metadata": {
        "id": "r3C1S9EUhMtR"
      }
    },
    {
      "cell_type": "code",
      "source": [
        "w1=\"abc\"\n",
        "w2=\"xyz\"\n",
        "\n",
        "w3=w1+w2\n",
        "print(w3)"
      ],
      "metadata": {
        "colab": {
          "base_uri": "https://localhost:8080/"
        },
        "id": "kGbHiTHmgm_A",
        "outputId": "274c46cb-9eed-4218-fc84-f82bf85da160"
      },
      "execution_count": 40,
      "outputs": [
        {
          "output_type": "stream",
          "name": "stdout",
          "text": [
            "abcxyz\n"
          ]
        }
      ]
    },
    {
      "cell_type": "code",
      "source": [],
      "metadata": {
        "id": "skoanz9ThZQ4"
      },
      "execution_count": null,
      "outputs": []
    },
    {
      "cell_type": "markdown",
      "source": [
        "List"
      ],
      "metadata": {
        "id": "Bo8ZR46_VMcA"
      }
    },
    {
      "cell_type": "code",
      "source": [
        "#list is represented in closed square brackets\n",
        "#list can have multiplte data types in a single list\n",
        "#list are mutuable that is can be changed once created\n",
        "#list allows duplicate values\n",
        "\n",
        "my_list=[1,2,3,4,5]\n",
        "print(my_list)\n",
        "type(my_list)\n",
        "\n",
        "list1=[2,3,4.5,'abc']\n",
        "print(list1)\n",
        "\n"
      ],
      "metadata": {
        "colab": {
          "base_uri": "https://localhost:8080/"
        },
        "id": "reVDxcqNVOVe",
        "outputId": "d01628d4-077f-457f-b9e7-af7b71b3ab57"
      },
      "execution_count": 5,
      "outputs": [
        {
          "output_type": "stream",
          "name": "stdout",
          "text": [
            "[1, 2, 3, 4, 5]\n",
            "[2, 3, 4.5, 'abc']\n"
          ]
        }
      ]
    },
    {
      "cell_type": "code",
      "source": [
        "a=7\n",
        "list1.append(a)\n",
        "print(list1)"
      ],
      "metadata": {
        "colab": {
          "base_uri": "https://localhost:8080/"
        },
        "id": "Lym3Ou-lVlqC",
        "outputId": "5fc78bd6-23bf-45a1-cbfb-3cbd321caa35"
      },
      "execution_count": 6,
      "outputs": [
        {
          "output_type": "stream",
          "name": "stdout",
          "text": [
            "[2, 3, 4.5, 'abc', 7]\n"
          ]
        }
      ]
    },
    {
      "cell_type": "code",
      "source": [
        "print(my_list[2])"
      ],
      "metadata": {
        "colab": {
          "base_uri": "https://localhost:8080/"
        },
        "id": "h2lOClKGWez4",
        "outputId": "0108099a-e532-4ae4-f14c-5b04ed0c29fc"
      },
      "execution_count": 8,
      "outputs": [
        {
          "output_type": "stream",
          "name": "stdout",
          "text": [
            "3\n"
          ]
        }
      ]
    },
    {
      "cell_type": "code",
      "source": [
        "print(len(my_list))"
      ],
      "metadata": {
        "colab": {
          "base_uri": "https://localhost:8080/"
        },
        "id": "XWUtR8nIWyna",
        "outputId": "d1b1e532-0447-4c5f-8207-03c7dd40e7c9"
      },
      "execution_count": 9,
      "outputs": [
        {
          "output_type": "stream",
          "name": "stdout",
          "text": [
            "5\n"
          ]
        }
      ]
    },
    {
      "cell_type": "code",
      "source": [
        "nlist=[]\n",
        "nlist.append(1)\n",
        "nlist.append(2)\n",
        "nlist.append(3)\n",
        "nlist.append(4)"
      ],
      "metadata": {
        "id": "L-wxoK3HaTpX"
      },
      "execution_count": 11,
      "outputs": []
    },
    {
      "cell_type": "code",
      "source": [
        "print(nlist)"
      ],
      "metadata": {
        "colab": {
          "base_uri": "https://localhost:8080/"
        },
        "id": "S3H1qIHvafOL",
        "outputId": "f6c01fae-350e-48d8-be37-da0f2471b547"
      },
      "execution_count": 12,
      "outputs": [
        {
          "output_type": "stream",
          "name": "stdout",
          "text": [
            "[1, 2, 3, 4]\n"
          ]
        }
      ]
    },
    {
      "cell_type": "code",
      "source": [
        "del nlist[2]\n",
        "print(nlist)"
      ],
      "metadata": {
        "colab": {
          "base_uri": "https://localhost:8080/"
        },
        "id": "CzvQU5aOaqbJ",
        "outputId": "6ef1f3d7-84d4-4e97-c3bb-0ad9b2938881"
      },
      "execution_count": 13,
      "outputs": [
        {
          "output_type": "stream",
          "name": "stdout",
          "text": [
            "[1, 2, 4]\n"
          ]
        }
      ]
    },
    {
      "cell_type": "code",
      "source": [
        "list2=[1,2,3,4,5]\n",
        "list3=[5,6,7,8,9]\n",
        "list4=list2+list3\n",
        "print(list4)"
      ],
      "metadata": {
        "colab": {
          "base_uri": "https://localhost:8080/"
        },
        "id": "ROYtCsuda482",
        "outputId": "2c7c41e1-774e-44cd-9ca7-3941e935d08c"
      },
      "execution_count": 14,
      "outputs": [
        {
          "output_type": "stream",
          "name": "stdout",
          "text": [
            "[1, 2, 3, 4, 5, 5, 6, 7, 8, 9]\n"
          ]
        }
      ]
    },
    {
      "cell_type": "markdown",
      "source": [
        "Tuple\n"
      ],
      "metadata": {
        "id": "ZzrUUzSibWsk"
      }
    },
    {
      "cell_type": "code",
      "source": [
        "#Tuple is immutable\n",
        "#Tuple allows multiple data types\n",
        "\n",
        "tuple_1=(1,2,3,4)\n",
        "print(tuple_1)\n",
        "type(tuple_1)"
      ],
      "metadata": {
        "colab": {
          "base_uri": "https://localhost:8080/"
        },
        "id": "OmyMIXK5bYSA",
        "outputId": "b017cd27-f6b1-4570-d799-65c238ba7882"
      },
      "execution_count": 18,
      "outputs": [
        {
          "output_type": "stream",
          "name": "stdout",
          "text": [
            "(1, 2, 3, 4)\n"
          ]
        },
        {
          "output_type": "execute_result",
          "data": {
            "text/plain": [
              "tuple"
            ]
          },
          "metadata": {},
          "execution_count": 18
        }
      ]
    },
    {
      "cell_type": "code",
      "source": [
        "tuple_3= (1, 2, 3.5, 4.8,'Machine learning')\n",
        "print(tuple_3)"
      ],
      "metadata": {
        "colab": {
          "base_uri": "https://localhost:8080/"
        },
        "id": "oi5558ZTbipt",
        "outputId": "0d32b2e7-cf95-4667-9400-68004b69ac0b"
      },
      "execution_count": 20,
      "outputs": [
        {
          "output_type": "stream",
          "name": "stdout",
          "text": [
            "(1, 2, 3.5, 4.8, 'Machine learning')\n"
          ]
        }
      ]
    },
    {
      "cell_type": "code",
      "source": [
        "#converting a list to a tuple\n",
        "list6=[3,5,7,8]\n",
        "print(list6)"
      ],
      "metadata": {
        "colab": {
          "base_uri": "https://localhost:8080/"
        },
        "id": "DaQazmBvfCBu",
        "outputId": "cc708fe8-eb74-4ba3-9c74-be34d24deaba"
      },
      "execution_count": 21,
      "outputs": [
        {
          "output_type": "stream",
          "name": "stdout",
          "text": [
            "[3, 5, 7, 8]\n"
          ]
        }
      ]
    },
    {
      "cell_type": "code",
      "source": [
        "tuple_3=tuple(list6)\n",
        "print(tuple_3)"
      ],
      "metadata": {
        "colab": {
          "base_uri": "https://localhost:8080/"
        },
        "id": "fhdeSgpQfPUy",
        "outputId": "3e291d00-2dd4-4f69-c9bf-7cac5252edbf"
      },
      "execution_count": 23,
      "outputs": [
        {
          "output_type": "stream",
          "name": "stdout",
          "text": [
            "(3, 5, 7, 8)\n"
          ]
        }
      ]
    },
    {
      "cell_type": "code",
      "source": [
        "print(tuple_3[1])"
      ],
      "metadata": {
        "colab": {
          "base_uri": "https://localhost:8080/"
        },
        "id": "4yGO6CZUfXSc",
        "outputId": "e7dcbbe0-869d-4880-d9bd-1cf6884da0db"
      },
      "execution_count": 24,
      "outputs": [
        {
          "output_type": "stream",
          "name": "stdout",
          "text": [
            "5\n"
          ]
        }
      ]
    },
    {
      "cell_type": "markdown",
      "source": [
        "Set"
      ],
      "metadata": {
        "id": "tg9-AccUgcEB"
      }
    },
    {
      "cell_type": "code",
      "source": [
        "#set is enclosed in clurly bracket\n",
        "#does not have any associated index values\n",
        "#does not allow duplicate commands\n",
        "\n",
        "s={1,2,3,4,5}\n",
        "type(s)"
      ],
      "metadata": {
        "colab": {
          "base_uri": "https://localhost:8080/"
        },
        "id": "laf8gWgnf0z3",
        "outputId": "e31f0cbe-5ce6-4299-fd8f-910b6d6a51d2"
      },
      "execution_count": 25,
      "outputs": [
        {
          "output_type": "execute_result",
          "data": {
            "text/plain": [
              "set"
            ]
          },
          "metadata": {},
          "execution_count": 25
        }
      ]
    },
    {
      "cell_type": "code",
      "source": [
        "#convert list to a set\n",
        "list7=[2,3,4,5,6]\n",
        "x=set(list7)\n",
        "print(x)"
      ],
      "metadata": {
        "colab": {
          "base_uri": "https://localhost:8080/"
        },
        "id": "1s5cxeqxgnI-",
        "outputId": "9bd9ccfb-1c9e-4bd7-d00d-5d4ff24c393c"
      },
      "execution_count": 26,
      "outputs": [
        {
          "output_type": "stream",
          "name": "stdout",
          "text": [
            "{2, 3, 4, 5, 6}\n"
          ]
        }
      ]
    },
    {
      "cell_type": "code",
      "source": [
        "s={3,4,5,6,7,8,4,5,6}\n",
        "print(s)"
      ],
      "metadata": {
        "colab": {
          "base_uri": "https://localhost:8080/"
        },
        "id": "etOCZUsohgw4",
        "outputId": "23cf2fea-45b5-46ed-df23-af75e3474175"
      },
      "execution_count": 27,
      "outputs": [
        {
          "output_type": "stream",
          "name": "stdout",
          "text": [
            "{3, 4, 5, 6, 7, 8}\n"
          ]
        }
      ]
    },
    {
      "cell_type": "markdown",
      "source": [
        "Dictionary"
      ],
      "metadata": {
        "id": "0ut6oew0h5wi"
      }
    },
    {
      "cell_type": "code",
      "source": [
        "# dictionary has a key and a value associated with it\n",
        "# dictionary does not allow duplicate elements"
      ],
      "metadata": {
        "id": "Imk5qJ5sh0KY"
      },
      "execution_count": 33,
      "outputs": []
    },
    {
      "cell_type": "code",
      "source": [
        "my_dict={'a':\"navya\",'b':\"navya\",'c':\"navya\"}\n",
        "print(my_dict)"
      ],
      "metadata": {
        "colab": {
          "base_uri": "https://localhost:8080/"
        },
        "id": "ift24DWmiBvR",
        "outputId": "95696b2d-fa8d-4325-cfdc-5ced5515a607"
      },
      "execution_count": 29,
      "outputs": [
        {
          "output_type": "stream",
          "name": "stdout",
          "text": [
            "{'a': 'navya', 'b': 'navya', 'c': 'navya'}\n"
          ]
        }
      ]
    },
    {
      "cell_type": "code",
      "source": [
        "type(my_dict)"
      ],
      "metadata": {
        "colab": {
          "base_uri": "https://localhost:8080/"
        },
        "id": "UJbwcf2IiXYO",
        "outputId": "0b58b578-5df3-41db-a6c7-56e377c7d711"
      },
      "execution_count": 30,
      "outputs": [
        {
          "output_type": "execute_result",
          "data": {
            "text/plain": [
              "dict"
            ]
          },
          "metadata": {},
          "execution_count": 30
        }
      ]
    },
    {
      "cell_type": "code",
      "source": [
        "print(my_dict['a'])"
      ],
      "metadata": {
        "colab": {
          "base_uri": "https://localhost:8080/"
        },
        "id": "uPBvWdYWilib",
        "outputId": "11ecc90f-8aef-4899-a5da-699772d2d232"
      },
      "execution_count": 32,
      "outputs": [
        {
          "output_type": "stream",
          "name": "stdout",
          "text": [
            "navya\n"
          ]
        }
      ]
    },
    {
      "cell_type": "code",
      "source": [
        "num1=10\n",
        "num2=20\n",
        "\n",
        "print(num1+num2)\n",
        "print(num1-num2)\n",
        "print(num1*num2)\n",
        "print(num1/num2)"
      ],
      "metadata": {
        "colab": {
          "base_uri": "https://localhost:8080/"
        },
        "id": "CwIlMVvSjOYp",
        "outputId": "0894f328-943d-480b-cc56-dd0dd3a47dc3"
      },
      "execution_count": 34,
      "outputs": [
        {
          "output_type": "stream",
          "name": "stdout",
          "text": [
            "30\n",
            "-10\n",
            "200\n",
            "0.5\n"
          ]
        }
      ]
    },
    {
      "cell_type": "code",
      "source": [
        "#exponential\n",
        "print(2**3)"
      ],
      "metadata": {
        "colab": {
          "base_uri": "https://localhost:8080/"
        },
        "id": "sfvWAAegpV_g",
        "outputId": "924484a0-0638-4122-9de4-7bcd0ae9b570"
      },
      "execution_count": 36,
      "outputs": [
        {
          "output_type": "stream",
          "name": "stdout",
          "text": [
            "8\n"
          ]
        }
      ]
    },
    {
      "cell_type": "markdown",
      "source": [
        "Membership Operator\n",
        "\n",
        "in \n",
        "\n",
        "not in"
      ],
      "metadata": {
        "id": "-Lm_L5Cpq_f5"
      }
    },
    {
      "cell_type": "code",
      "source": [
        "a=1\n",
        "b=2\n",
        "c=[1,2,3,4,5,6]\n",
        "\n",
        "print(a in c)\n",
        "print(b in c)"
      ],
      "metadata": {
        "colab": {
          "base_uri": "https://localhost:8080/"
        },
        "id": "iRLUbWVQrDrS",
        "outputId": "231ff0b2-cfd8-460f-a1ca-4591fb8dc169"
      },
      "execution_count": 37,
      "outputs": [
        {
          "output_type": "stream",
          "name": "stdout",
          "text": [
            "True\n",
            "True\n"
          ]
        }
      ]
    },
    {
      "cell_type": "code",
      "source": [
        "a=3\n",
        "b=5\n",
        "\n",
        "if(a>b):\n",
        "  print(\"a>b\")\n",
        "else:\n",
        "  print(\"a<b\")"
      ],
      "metadata": {
        "colab": {
          "base_uri": "https://localhost:8080/"
        },
        "id": "D8UICnF_rrHy",
        "outputId": "a49172fb-0749-44d6-acc2-c7249988a52d"
      },
      "execution_count": 38,
      "outputs": [
        {
          "output_type": "stream",
          "name": "stdout",
          "text": [
            "a<b\n"
          ]
        }
      ]
    },
    {
      "cell_type": "code",
      "source": [
        "a=int(input(\"Enter the value of a\"))\n",
        "b=int(input(\"Enter the value of b\"))\n",
        "\n",
        "if(a>b):\n",
        "  print(\"a>b\")\n",
        "else:\n",
        "  print(\"a<b\")"
      ],
      "metadata": {
        "colab": {
          "base_uri": "https://localhost:8080/"
        },
        "id": "L-k0VVRJsW3p",
        "outputId": "4aba2234-d97a-455b-888e-17ab696b90ee"
      },
      "execution_count": 39,
      "outputs": [
        {
          "output_type": "stream",
          "name": "stdout",
          "text": [
            "Enter the value of a2\n",
            "Enter the value of b3\n",
            "a<b\n"
          ]
        }
      ]
    },
    {
      "cell_type": "code",
      "source": [
        "a=10\n",
        "b=20\n",
        "c=30\n",
        "\n",
        "if(a>b and a>c):\n",
        "  print(\"A is the greatest \")\n",
        "elif(b>a and b>c):\n",
        "  print(\"B is the greatest\")\n",
        "else:\n",
        "  print(\"C is the greatest\")"
      ],
      "metadata": {
        "colab": {
          "base_uri": "https://localhost:8080/"
        },
        "id": "9p7bkvN9smVb",
        "outputId": "875deb97-f4d2-44cb-e87f-945438ca5345"
      },
      "execution_count": 40,
      "outputs": [
        {
          "output_type": "stream",
          "name": "stdout",
          "text": [
            "C is the greatest\n"
          ]
        }
      ]
    },
    {
      "cell_type": "markdown",
      "source": [
        "Loops"
      ],
      "metadata": {
        "id": "ppFj8NaHrhmB"
      }
    },
    {
      "cell_type": "code",
      "source": [
        "for i in range(5):  # 0,1,2,3,4\n",
        " print(\"Hello \")"
      ],
      "metadata": {
        "colab": {
          "base_uri": "https://localhost:8080/"
        },
        "id": "DrxOrbP_tx5s",
        "outputId": "cbceb54e-aedc-42f5-a462-42c0ac4e7b03"
      },
      "execution_count": 2,
      "outputs": [
        {
          "output_type": "stream",
          "name": "stdout",
          "text": [
            "Hello \n",
            "Hello \n",
            "Hello \n",
            "Hello \n",
            "Hello \n"
          ]
        }
      ]
    },
    {
      "cell_type": "code",
      "source": [
        "a=[45,6,78,98,12]\n",
        "for i in a:\n",
        "  print(i)"
      ],
      "metadata": {
        "colab": {
          "base_uri": "https://localhost:8080/"
        },
        "id": "xo1XCp21rqa4",
        "outputId": "3b9642f7-588f-4742-cef4-4a50d2eabb34"
      },
      "execution_count": 4,
      "outputs": [
        {
          "output_type": "stream",
          "name": "stdout",
          "text": [
            "45\n",
            "6\n",
            "78\n",
            "98\n",
            "12\n"
          ]
        }
      ]
    },
    {
      "cell_type": "code",
      "source": [],
      "metadata": {
        "id": "w4hlswwmsYCc"
      },
      "execution_count": null,
      "outputs": []
    }
  ]
}